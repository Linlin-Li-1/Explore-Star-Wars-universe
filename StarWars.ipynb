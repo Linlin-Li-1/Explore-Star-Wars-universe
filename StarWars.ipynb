{
 "cells": [
  {
   "cell_type": "markdown",
   "metadata": {},
   "source": [
    "### load packages"
   ]
  },
  {
   "cell_type": "code",
   "execution_count": 1,
   "metadata": {},
   "outputs": [],
   "source": [
    "import json\n",
    "import requests\n",
    "import pandas as pd\n",
    "import numpy as np"
   ]
  },
  {
   "cell_type": "markdown",
   "metadata": {},
   "source": [
    "### get all characters through SWAPI"
   ]
  },
  {
   "cell_type": "code",
   "execution_count": 2,
   "metadata": {},
   "outputs": [],
   "source": [
    "base_url = 'https://swapi.dev/api/people/'\n",
    "r = requests.get(base_url) # make a request\n",
    "\n",
    "characters = r.json() # get all people"
   ]
  },
  {
   "cell_type": "code",
   "execution_count": 3,
   "metadata": {},
   "outputs": [
    {
     "data": {
      "text/plain": [
       "{'name': 'Luke Skywalker',\n",
       " 'height': '172',\n",
       " 'mass': '77',\n",
       " 'hair_color': 'blond',\n",
       " 'skin_color': 'fair',\n",
       " 'eye_color': 'blue',\n",
       " 'birth_year': '19BBY',\n",
       " 'gender': 'male',\n",
       " 'homeworld': 'http://swapi.dev/api/planets/1/',\n",
       " 'films': ['http://swapi.dev/api/films/1/',\n",
       "  'http://swapi.dev/api/films/2/',\n",
       "  'http://swapi.dev/api/films/3/',\n",
       "  'http://swapi.dev/api/films/6/'],\n",
       " 'species': [],\n",
       " 'vehicles': ['http://swapi.dev/api/vehicles/14/',\n",
       "  'http://swapi.dev/api/vehicles/30/'],\n",
       " 'starships': ['http://swapi.dev/api/starships/12/',\n",
       "  'http://swapi.dev/api/starships/22/'],\n",
       " 'created': '2014-12-09T13:50:51.644000Z',\n",
       " 'edited': '2014-12-20T21:17:56.891000Z',\n",
       " 'url': 'http://swapi.dev/api/people/1/'}"
      ]
     },
     "execution_count": 3,
     "metadata": {},
     "output_type": "execute_result"
    }
   ],
   "source": [
    "characters['results'][0]"
   ]
  },
  {
   "cell_type": "code",
   "execution_count": 4,
   "metadata": {},
   "outputs": [
    {
     "name": "stdout",
     "output_type": "stream",
     "text": [
      "10  people are found!\n",
      "10  people are found!\n",
      "10  people are found!\n",
      "10  people are found!\n",
      "10  people are found!\n",
      "10  people are found!\n",
      "10  people are found!\n",
      "10  people are found!\n",
      "10  people are found!\n",
      "10  people are found!\n",
      "10  people are found!\n",
      "10  people are found!\n",
      "10  people are found!\n",
      "10  people are found!\n",
      "10  people are found!\n",
      "10  people are found!\n",
      "10  people are found!\n",
      "2  people are found!\n"
     ]
    }
   ],
   "source": [
    "people = []\n",
    "for i in range(len(characters['results'])):\n",
    "    print(len(characters['results']), ' people are found!')\n",
    "    people.append(characters['results'][i])\n",
    "    \n",
    "while characters['next'] is not None:\n",
    "    characters = requests.get(characters['next']).json()\n",
    "    print(len(characters['results']), ' people are found!')\n",
    "    for i in range(len(characters['results'])):\n",
    "        people.append(characters['results'][i])"
   ]
  },
  {
   "cell_type": "code",
   "execution_count": 5,
   "metadata": {},
   "outputs": [
    {
     "data": {
      "text/plain": [
       "82"
      ]
     },
     "execution_count": 5,
     "metadata": {},
     "output_type": "execute_result"
    }
   ],
   "source": [
    "len(people)"
   ]
  },
  {
   "cell_type": "markdown",
   "metadata": {},
   "source": [
    "There are 82 characters in the Star War Universe."
   ]
  },
  {
   "cell_type": "code",
   "execution_count": 6,
   "metadata": {},
   "outputs": [],
   "source": [
    "people = pd.json_normalize(people)"
   ]
  },
  {
   "cell_type": "code",
   "execution_count": 7,
   "metadata": {},
   "outputs": [
    {
     "data": {
      "text/html": [
       "<div>\n",
       "<style scoped>\n",
       "    .dataframe tbody tr th:only-of-type {\n",
       "        vertical-align: middle;\n",
       "    }\n",
       "\n",
       "    .dataframe tbody tr th {\n",
       "        vertical-align: top;\n",
       "    }\n",
       "\n",
       "    .dataframe thead th {\n",
       "        text-align: right;\n",
       "    }\n",
       "</style>\n",
       "<table border=\"1\" class=\"dataframe\">\n",
       "  <thead>\n",
       "    <tr style=\"text-align: right;\">\n",
       "      <th></th>\n",
       "      <th>name</th>\n",
       "      <th>height</th>\n",
       "      <th>mass</th>\n",
       "      <th>hair_color</th>\n",
       "      <th>skin_color</th>\n",
       "      <th>eye_color</th>\n",
       "      <th>birth_year</th>\n",
       "      <th>gender</th>\n",
       "      <th>homeworld</th>\n",
       "      <th>films</th>\n",
       "      <th>species</th>\n",
       "      <th>vehicles</th>\n",
       "      <th>starships</th>\n",
       "      <th>created</th>\n",
       "      <th>edited</th>\n",
       "      <th>url</th>\n",
       "    </tr>\n",
       "  </thead>\n",
       "  <tbody>\n",
       "    <tr>\n",
       "      <th>5</th>\n",
       "      <td>Owen Lars</td>\n",
       "      <td>178</td>\n",
       "      <td>120</td>\n",
       "      <td>brown, grey</td>\n",
       "      <td>light</td>\n",
       "      <td>blue</td>\n",
       "      <td>52BBY</td>\n",
       "      <td>male</td>\n",
       "      <td>http://swapi.dev/api/planets/1/</td>\n",
       "      <td>[http://swapi.dev/api/films/1/, http://swapi.d...</td>\n",
       "      <td>[]</td>\n",
       "      <td>[]</td>\n",
       "      <td>[]</td>\n",
       "      <td>2014-12-10T15:52:14.024000Z</td>\n",
       "      <td>2014-12-20T21:17:50.317000Z</td>\n",
       "      <td>http://swapi.dev/api/people/6/</td>\n",
       "    </tr>\n",
       "    <tr>\n",
       "      <th>4</th>\n",
       "      <td>Leia Organa</td>\n",
       "      <td>150</td>\n",
       "      <td>49</td>\n",
       "      <td>brown</td>\n",
       "      <td>light</td>\n",
       "      <td>brown</td>\n",
       "      <td>19BBY</td>\n",
       "      <td>female</td>\n",
       "      <td>http://swapi.dev/api/planets/2/</td>\n",
       "      <td>[http://swapi.dev/api/films/1/, http://swapi.d...</td>\n",
       "      <td>[]</td>\n",
       "      <td>[http://swapi.dev/api/vehicles/30/]</td>\n",
       "      <td>[]</td>\n",
       "      <td>2014-12-10T15:20:09.791000Z</td>\n",
       "      <td>2014-12-20T21:17:50.315000Z</td>\n",
       "      <td>http://swapi.dev/api/people/5/</td>\n",
       "    </tr>\n",
       "    <tr>\n",
       "      <th>76</th>\n",
       "      <td>Shaak Ti</td>\n",
       "      <td>178</td>\n",
       "      <td>57</td>\n",
       "      <td>none</td>\n",
       "      <td>red, blue, white</td>\n",
       "      <td>black</td>\n",
       "      <td>unknown</td>\n",
       "      <td>female</td>\n",
       "      <td>http://swapi.dev/api/planets/58/</td>\n",
       "      <td>[http://swapi.dev/api/films/5/, http://swapi.d...</td>\n",
       "      <td>[http://swapi.dev/api/species/35/]</td>\n",
       "      <td>[]</td>\n",
       "      <td>[]</td>\n",
       "      <td>2014-12-20T18:44:01.103000Z</td>\n",
       "      <td>2014-12-20T21:17:50.486000Z</td>\n",
       "      <td>http://swapi.dev/api/people/78/</td>\n",
       "    </tr>\n",
       "    <tr>\n",
       "      <th>27</th>\n",
       "      <td>Arvel Crynyd</td>\n",
       "      <td>unknown</td>\n",
       "      <td>unknown</td>\n",
       "      <td>brown</td>\n",
       "      <td>fair</td>\n",
       "      <td>brown</td>\n",
       "      <td>unknown</td>\n",
       "      <td>male</td>\n",
       "      <td>http://swapi.dev/api/planets/28/</td>\n",
       "      <td>[http://swapi.dev/api/films/3/]</td>\n",
       "      <td>[]</td>\n",
       "      <td>[]</td>\n",
       "      <td>[http://swapi.dev/api/starships/28/]</td>\n",
       "      <td>2014-12-18T11:16:33.020000Z</td>\n",
       "      <td>2014-12-20T21:17:50.367000Z</td>\n",
       "      <td>http://swapi.dev/api/people/29/</td>\n",
       "    </tr>\n",
       "    <tr>\n",
       "      <th>77</th>\n",
       "      <td>Grievous</td>\n",
       "      <td>216</td>\n",
       "      <td>159</td>\n",
       "      <td>none</td>\n",
       "      <td>brown, white</td>\n",
       "      <td>green, yellow</td>\n",
       "      <td>unknown</td>\n",
       "      <td>male</td>\n",
       "      <td>http://swapi.dev/api/planets/59/</td>\n",
       "      <td>[http://swapi.dev/api/films/6/]</td>\n",
       "      <td>[http://swapi.dev/api/species/36/]</td>\n",
       "      <td>[http://swapi.dev/api/vehicles/60/]</td>\n",
       "      <td>[http://swapi.dev/api/starships/74/]</td>\n",
       "      <td>2014-12-20T19:43:53.348000Z</td>\n",
       "      <td>2014-12-20T21:17:50.488000Z</td>\n",
       "      <td>http://swapi.dev/api/people/79/</td>\n",
       "    </tr>\n",
       "  </tbody>\n",
       "</table>\n",
       "</div>"
      ],
      "text/plain": [
       "            name   height     mass   hair_color        skin_color  \\\n",
       "5      Owen Lars      178      120  brown, grey             light   \n",
       "4    Leia Organa      150       49        brown             light   \n",
       "76      Shaak Ti      178       57         none  red, blue, white   \n",
       "27  Arvel Crynyd  unknown  unknown        brown              fair   \n",
       "77      Grievous      216      159         none      brown, white   \n",
       "\n",
       "        eye_color birth_year  gender                         homeworld  \\\n",
       "5            blue      52BBY    male   http://swapi.dev/api/planets/1/   \n",
       "4           brown      19BBY  female   http://swapi.dev/api/planets/2/   \n",
       "76          black    unknown  female  http://swapi.dev/api/planets/58/   \n",
       "27          brown    unknown    male  http://swapi.dev/api/planets/28/   \n",
       "77  green, yellow    unknown    male  http://swapi.dev/api/planets/59/   \n",
       "\n",
       "                                                films  \\\n",
       "5   [http://swapi.dev/api/films/1/, http://swapi.d...   \n",
       "4   [http://swapi.dev/api/films/1/, http://swapi.d...   \n",
       "76  [http://swapi.dev/api/films/5/, http://swapi.d...   \n",
       "27                    [http://swapi.dev/api/films/3/]   \n",
       "77                    [http://swapi.dev/api/films/6/]   \n",
       "\n",
       "                               species                             vehicles  \\\n",
       "5                                   []                                   []   \n",
       "4                                   []  [http://swapi.dev/api/vehicles/30/]   \n",
       "76  [http://swapi.dev/api/species/35/]                                   []   \n",
       "27                                  []                                   []   \n",
       "77  [http://swapi.dev/api/species/36/]  [http://swapi.dev/api/vehicles/60/]   \n",
       "\n",
       "                               starships                      created  \\\n",
       "5                                     []  2014-12-10T15:52:14.024000Z   \n",
       "4                                     []  2014-12-10T15:20:09.791000Z   \n",
       "76                                    []  2014-12-20T18:44:01.103000Z   \n",
       "27  [http://swapi.dev/api/starships/28/]  2014-12-18T11:16:33.020000Z   \n",
       "77  [http://swapi.dev/api/starships/74/]  2014-12-20T19:43:53.348000Z   \n",
       "\n",
       "                         edited                              url  \n",
       "5   2014-12-20T21:17:50.317000Z   http://swapi.dev/api/people/6/  \n",
       "4   2014-12-20T21:17:50.315000Z   http://swapi.dev/api/people/5/  \n",
       "76  2014-12-20T21:17:50.486000Z  http://swapi.dev/api/people/78/  \n",
       "27  2014-12-20T21:17:50.367000Z  http://swapi.dev/api/people/29/  \n",
       "77  2014-12-20T21:17:50.488000Z  http://swapi.dev/api/people/79/  "
      ]
     },
     "execution_count": 7,
     "metadata": {},
     "output_type": "execute_result"
    }
   ],
   "source": [
    "people.sample(5)"
   ]
  },
  {
   "cell_type": "markdown",
   "metadata": {},
   "source": [
    "In the codebook, the birth year of each character uses the in-universe standard of BBY or ABY - Before the Battle of Yavin or After the Battle of Yavin. The Battle of Yavin is a battle that occurs at the end of Star Wars episode IV: A New Hope. In this case, characters who were born in BBY are older than those born in ABY."
   ]
  },
  {
   "cell_type": "markdown",
   "metadata": {},
   "source": [
    "There are several characters that we don't know their birth year, so we can't determine whether they are younger or older than the characters with a birth year."
   ]
  },
  {
   "cell_type": "code",
   "execution_count": 8,
   "metadata": {},
   "outputs": [],
   "source": [
    "BBY_people = people[people.birth_year.str.contains('BBY')]\n",
    "ABY_people = people[people.birth_year.str.contains('ABY')]"
   ]
  },
  {
   "cell_type": "code",
   "execution_count": 9,
   "metadata": {},
   "outputs": [
    {
     "data": {
      "text/plain": [
       "(43, 0)"
      ]
     },
     "execution_count": 9,
     "metadata": {},
     "output_type": "execute_result"
    }
   ],
   "source": [
    "BBY_people.shape[0], ABY_people.shape[0]"
   ]
  },
  {
   "cell_type": "code",
   "execution_count": 10,
   "metadata": {},
   "outputs": [
    {
     "data": {
      "text/plain": [
       "array(['102BBY', '112BBY', '15BBY', '19BBY', '200BBY', '21BBY', '22BBY',\n",
       "       '24BBY', '29BBY', '31.5BBY', '31BBY', '33BBY', '37BBY', '40BBY',\n",
       "       '41.9BBY', '41BBY', '44BBY', '46BBY', '47BBY', '48BBY', '52BBY',\n",
       "       '53BBY', '54BBY', '57BBY', '58BBY', '600BBY', '62BBY', '64BBY',\n",
       "       '66BBY', '67BBY', '72BBY', '82BBY', '896BBY', '8BBY', '91BBY',\n",
       "       '92BBY', 'unknown'], dtype=object)"
      ]
     },
     "execution_count": 10,
     "metadata": {},
     "output_type": "execute_result"
    }
   ],
   "source": [
    "np.unique(people.birth_year)"
   ]
  },
  {
   "cell_type": "markdown",
   "metadata": {},
   "source": [
    "There are 43 characters who were born before the battle of Yavin and there are no characters who were born after the battle of Yavin."
   ]
  },
  {
   "cell_type": "code",
   "execution_count": 11,
   "metadata": {},
   "outputs": [],
   "source": [
    "BBY_people = BBY_people.assign(birth_year = BBY_people.birth_year.str.extract('(\\d+)'))\n",
    "BBY_people['birth_year'] = BBY_people['birth_year'].astype('int32')"
   ]
  },
  {
   "cell_type": "code",
   "execution_count": 12,
   "metadata": {},
   "outputs": [
    {
     "data": {
      "text/plain": [
       "name                                                       Yoda\n",
       "height                                                       66\n",
       "mass                                                         17\n",
       "hair_color                                                white\n",
       "skin_color                                                green\n",
       "eye_color                                                 brown\n",
       "birth_year                                                  896\n",
       "gender                                                     male\n",
       "homeworld                      http://swapi.dev/api/planets/28/\n",
       "films         [http://swapi.dev/api/films/2/, http://swapi.d...\n",
       "species                       [http://swapi.dev/api/species/6/]\n",
       "vehicles                                                     []\n",
       "starships                                                    []\n",
       "created                             2014-12-15T12:26:01.042000Z\n",
       "edited                              2014-12-20T21:17:50.345000Z\n",
       "url                             http://swapi.dev/api/people/20/\n",
       "Name: 18, dtype: object"
      ]
     },
     "execution_count": 12,
     "metadata": {},
     "output_type": "execute_result"
    }
   ],
   "source": [
    "BBY_people.loc[BBY_people['birth_year'].idxmax()]"
   ]
  },
  {
   "cell_type": "markdown",
   "metadata": {},
   "source": [
    "Yoda is the oldest one among all characters with a birth year. "
   ]
  },
  {
   "cell_type": "markdown",
   "metadata": {},
   "source": [
    "### Find the titles of all the films the oldest character appeared in"
   ]
  },
  {
   "cell_type": "code",
   "execution_count": 13,
   "metadata": {},
   "outputs": [
    {
     "data": {
      "text/plain": [
       "['http://swapi.dev/api/films/2/',\n",
       " 'http://swapi.dev/api/films/3/',\n",
       " 'http://swapi.dev/api/films/4/',\n",
       " 'http://swapi.dev/api/films/5/',\n",
       " 'http://swapi.dev/api/films/6/']"
      ]
     },
     "execution_count": 13,
     "metadata": {},
     "output_type": "execute_result"
    }
   ],
   "source": [
    "BBY_people.loc[BBY_people['birth_year'].idxmax()]['films']"
   ]
  },
  {
   "cell_type": "code",
   "execution_count": 14,
   "metadata": {},
   "outputs": [
    {
     "data": {
      "text/plain": [
       "['The Empire Strikes Back',\n",
       " 'Return of the Jedi',\n",
       " 'The Phantom Menace',\n",
       " 'Attack of the Clones',\n",
       " 'Revenge of the Sith']"
      ]
     },
     "execution_count": 14,
     "metadata": {},
     "output_type": "execute_result"
    }
   ],
   "source": [
    "[requests.get(url).json()['title'] for url in BBY_people.loc[BBY_people['birth_year'].idxmax()]['films']]"
   ]
  }
 ],
 "metadata": {
  "kernelspec": {
   "display_name": "Python 3",
   "language": "python",
   "name": "python3"
  },
  "language_info": {
   "codemirror_mode": {
    "name": "ipython",
    "version": 3
   },
   "file_extension": ".py",
   "mimetype": "text/x-python",
   "name": "python",
   "nbconvert_exporter": "python",
   "pygments_lexer": "ipython3",
   "version": "3.7.8"
  }
 },
 "nbformat": 4,
 "nbformat_minor": 4
}
